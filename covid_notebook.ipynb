{
  "nbformat": 4,
  "nbformat_minor": 0,
  "metadata": {
    "colab": {
      "name": "covid.ipynb",
      "provenance": [],
      "collapsed_sections": []
    },
    "kernelspec": {
      "name": "python3",
      "display_name": "Python 3"
    },
    "language_info": {
      "name": "python"
    }
  },
  "cells": [
    {
      "cell_type": "code",
      "metadata": {
        "colab": {
          "base_uri": "https://localhost:8080/"
        },
        "id": "fs1JDARTz3KQ",
        "outputId": "64b369a4-59dd-4e72-fe17-83964d8e0713"
      },
      "source": [
        "!unzip /content/drive/MyDrive/covid_dataset.zip -d /content/drive/MyDrive"
      ],
      "execution_count": null,
      "outputs": [
        {
          "output_type": "stream",
          "text": [
            "Archive:  /content/drive/MyDrive/covid_dataset.zip\n",
            "  inflating: /content/drive/MyDrive/Covid19-dataset/test/Covid/0100.jpeg  \n",
            "  inflating: /content/drive/MyDrive/Covid19-dataset/test/Covid/0102.jpeg  \n",
            "  inflating: /content/drive/MyDrive/Covid19-dataset/test/Covid/0105.png  \n",
            "  inflating: /content/drive/MyDrive/Covid19-dataset/test/Covid/0106.jpeg  \n",
            "  inflating: /content/drive/MyDrive/Covid19-dataset/test/Covid/0108.jpeg  \n",
            "  inflating: /content/drive/MyDrive/Covid19-dataset/test/Covid/0111.jpg  \n",
            "  inflating: /content/drive/MyDrive/Covid19-dataset/test/Covid/0112.jpg  \n",
            "  inflating: /content/drive/MyDrive/Covid19-dataset/test/Covid/0113.jpg  \n",
            "  inflating: /content/drive/MyDrive/Covid19-dataset/test/Covid/0115.jpeg  \n",
            "  inflating: /content/drive/MyDrive/Covid19-dataset/test/Covid/0118.jpeg  \n",
            "  inflating: /content/drive/MyDrive/Covid19-dataset/test/Covid/0119.jpeg  \n",
            "  inflating: /content/drive/MyDrive/Covid19-dataset/test/Covid/0120.jpg  \n",
            "  inflating: /content/drive/MyDrive/Covid19-dataset/test/Covid/094.png  \n",
            "  inflating: /content/drive/MyDrive/Covid19-dataset/test/Covid/096.png  \n",
            "  inflating: /content/drive/MyDrive/Covid19-dataset/test/Covid/098.jpeg  \n",
            "  inflating: /content/drive/MyDrive/Covid19-dataset/test/Covid/COVID-00003b.jpg  \n",
            "  inflating: /content/drive/MyDrive/Covid19-dataset/test/Covid/COVID-00012.jpg  \n",
            "  inflating: /content/drive/MyDrive/Covid19-dataset/test/Covid/COVID-00022.jpg  \n",
            "  inflating: /content/drive/MyDrive/Covid19-dataset/test/Covid/COVID-00033.jpg  \n",
            "  inflating: /content/drive/MyDrive/Covid19-dataset/test/Covid/COVID-00037.jpg  \n",
            "  inflating: /content/drive/MyDrive/Covid19-dataset/test/Covid/auntminnie-2020_01_31_20_24_2322_2020_01_31_x-ray_coronavirus_US.jpg  \n",
            "  inflating: /content/drive/MyDrive/Covid19-dataset/test/Covid/auntminnie-a-2020_01_28_23_51_6665_2020_01_28_Vietnam_coronavirus.jpeg  \n",
            "  inflating: /content/drive/MyDrive/Covid19-dataset/test/Covid/auntminnie-b-2020_01_28_23_51_6665_2020_01_28_Vietnam_coronavirus.jpeg  \n",
            "  inflating: /content/drive/MyDrive/Covid19-dataset/test/Covid/auntminnie-c-2020_01_28_23_51_6665_2020_01_28_Vietnam_coronavirus.jpeg  \n",
            "  inflating: /content/drive/MyDrive/Covid19-dataset/test/Covid/auntminnie-d-2020_01_28_23_51_6665_2020_01_28_Vietnam_coronavirus.jpeg  \n",
            "  inflating: /content/drive/MyDrive/Covid19-dataset/test/Covid/radiopaedia-2019-novel-coronavirus-infected-pneumonia.jpg  \n",
            "  inflating: /content/drive/MyDrive/Covid19-dataset/test/Normal/0101.jpeg  \n",
            "  inflating: /content/drive/MyDrive/Covid19-dataset/test/Normal/0102.jpeg  \n",
            "  inflating: /content/drive/MyDrive/Covid19-dataset/test/Normal/0103.jpeg  \n",
            "  inflating: /content/drive/MyDrive/Covid19-dataset/test/Normal/0105.jpeg  \n",
            "  inflating: /content/drive/MyDrive/Covid19-dataset/test/Normal/0106.jpeg  \n",
            "  inflating: /content/drive/MyDrive/Covid19-dataset/test/Normal/0107.jpeg  \n",
            "  inflating: /content/drive/MyDrive/Covid19-dataset/test/Normal/0108.jpeg  \n",
            "  inflating: /content/drive/MyDrive/Covid19-dataset/test/Normal/0109.jpeg  \n",
            "  inflating: /content/drive/MyDrive/Covid19-dataset/test/Normal/0110.jpeg  \n",
            "  inflating: /content/drive/MyDrive/Covid19-dataset/test/Normal/0111.jpeg  \n",
            "  inflating: /content/drive/MyDrive/Covid19-dataset/test/Normal/0112.jpeg  \n",
            "  inflating: /content/drive/MyDrive/Covid19-dataset/test/Normal/0114.jpeg  \n",
            "  inflating: /content/drive/MyDrive/Covid19-dataset/test/Normal/0115.jpeg  \n",
            "  inflating: /content/drive/MyDrive/Covid19-dataset/test/Normal/0116.jpeg  \n",
            "  inflating: /content/drive/MyDrive/Covid19-dataset/test/Normal/0117.jpeg  \n",
            "  inflating: /content/drive/MyDrive/Covid19-dataset/test/Normal/0118.jpeg  \n",
            "  inflating: /content/drive/MyDrive/Covid19-dataset/test/Normal/0119.jpeg  \n",
            "  inflating: /content/drive/MyDrive/Covid19-dataset/test/Normal/0120.jpeg  \n",
            "  inflating: /content/drive/MyDrive/Covid19-dataset/test/Normal/0121.jpeg  \n",
            "  inflating: /content/drive/MyDrive/Covid19-dataset/test/Normal/0122.jpeg  \n",
            "  inflating: /content/drive/MyDrive/Covid19-dataset/test/Viral Pneumonia/0101.jpeg  \n",
            "  inflating: /content/drive/MyDrive/Covid19-dataset/test/Viral Pneumonia/0102.jpeg  \n",
            "  inflating: /content/drive/MyDrive/Covid19-dataset/test/Viral Pneumonia/0103.jpeg  \n",
            "  inflating: /content/drive/MyDrive/Covid19-dataset/test/Viral Pneumonia/0104.jpeg  \n",
            "  inflating: /content/drive/MyDrive/Covid19-dataset/test/Viral Pneumonia/0105.jpeg  \n",
            "  inflating: /content/drive/MyDrive/Covid19-dataset/test/Viral Pneumonia/0106.jpeg  \n",
            "  inflating: /content/drive/MyDrive/Covid19-dataset/test/Viral Pneumonia/0107.jpeg  \n",
            "  inflating: /content/drive/MyDrive/Covid19-dataset/test/Viral Pneumonia/0108.jpeg  \n",
            "  inflating: /content/drive/MyDrive/Covid19-dataset/test/Viral Pneumonia/0109.jpeg  \n",
            "  inflating: /content/drive/MyDrive/Covid19-dataset/test/Viral Pneumonia/0110.jpeg  \n",
            "  inflating: /content/drive/MyDrive/Covid19-dataset/test/Viral Pneumonia/0111.jpeg  \n",
            "  inflating: /content/drive/MyDrive/Covid19-dataset/test/Viral Pneumonia/0112.jpeg  \n",
            "  inflating: /content/drive/MyDrive/Covid19-dataset/test/Viral Pneumonia/0113.jpeg  \n",
            "  inflating: /content/drive/MyDrive/Covid19-dataset/test/Viral Pneumonia/0114.jpeg  \n",
            "  inflating: /content/drive/MyDrive/Covid19-dataset/test/Viral Pneumonia/0115.jpeg  \n",
            "  inflating: /content/drive/MyDrive/Covid19-dataset/test/Viral Pneumonia/0116.jpeg  \n",
            "  inflating: /content/drive/MyDrive/Covid19-dataset/test/Viral Pneumonia/0117.jpeg  \n",
            "  inflating: /content/drive/MyDrive/Covid19-dataset/test/Viral Pneumonia/0118.jpeg  \n",
            "  inflating: /content/drive/MyDrive/Covid19-dataset/test/Viral Pneumonia/0119.jpeg  \n",
            "  inflating: /content/drive/MyDrive/Covid19-dataset/test/Viral Pneumonia/0120.jpeg  \n",
            "  inflating: /content/drive/MyDrive/Covid19-dataset/train/Covid/01.jpeg  \n",
            "  inflating: /content/drive/MyDrive/Covid19-dataset/train/Covid/010.png  \n",
            "  inflating: /content/drive/MyDrive/Covid19-dataset/train/Covid/012.jpeg  \n",
            "  inflating: /content/drive/MyDrive/Covid19-dataset/train/Covid/015.jpg  \n",
            "  inflating: /content/drive/MyDrive/Covid19-dataset/train/Covid/019.png  \n",
            "  inflating: /content/drive/MyDrive/Covid19-dataset/train/Covid/02.jpeg  \n",
            "  inflating: /content/drive/MyDrive/Covid19-dataset/train/Covid/020.jpg  \n",
            "  inflating: /content/drive/MyDrive/Covid19-dataset/train/Covid/021.jpeg  \n",
            "  inflating: /content/drive/MyDrive/Covid19-dataset/train/Covid/022.jpeg  \n",
            "  inflating: /content/drive/MyDrive/Covid19-dataset/train/Covid/024.jpeg  \n",
            "  inflating: /content/drive/MyDrive/Covid19-dataset/train/Covid/025.jpeg  \n",
            "  inflating: /content/drive/MyDrive/Covid19-dataset/train/Covid/026.jpeg  \n",
            "  inflating: /content/drive/MyDrive/Covid19-dataset/train/Covid/027.jpeg  \n",
            "  inflating: /content/drive/MyDrive/Covid19-dataset/train/Covid/03.jpeg  \n",
            "  inflating: /content/drive/MyDrive/Covid19-dataset/train/Covid/031.jpeg  \n",
            "  inflating: /content/drive/MyDrive/Covid19-dataset/train/Covid/032.jpeg  \n",
            "  inflating: /content/drive/MyDrive/Covid19-dataset/train/Covid/033.png  \n",
            "  inflating: /content/drive/MyDrive/Covid19-dataset/train/Covid/039.jpeg  \n",
            "  inflating: /content/drive/MyDrive/Covid19-dataset/train/Covid/04.png  \n",
            "  inflating: /content/drive/MyDrive/Covid19-dataset/train/Covid/040.jpeg  \n",
            "  inflating: /content/drive/MyDrive/Covid19-dataset/train/Covid/041.jpeg  \n",
            "  inflating: /content/drive/MyDrive/Covid19-dataset/train/Covid/042.jpeg  \n",
            "  inflating: /content/drive/MyDrive/Covid19-dataset/train/Covid/043.jpeg  \n",
            "  inflating: /content/drive/MyDrive/Covid19-dataset/train/Covid/044.jpeg  \n",
            "  inflating: /content/drive/MyDrive/Covid19-dataset/train/Covid/045.jpeg  \n",
            "  inflating: /content/drive/MyDrive/Covid19-dataset/train/Covid/046.jpeg  \n",
            "  inflating: /content/drive/MyDrive/Covid19-dataset/train/Covid/047.jpeg  \n",
            "  inflating: /content/drive/MyDrive/Covid19-dataset/train/Covid/048.jpeg  \n",
            "  inflating: /content/drive/MyDrive/Covid19-dataset/train/Covid/049.jpeg  \n",
            "  inflating: /content/drive/MyDrive/Covid19-dataset/train/Covid/050.jpeg  \n",
            "  inflating: /content/drive/MyDrive/Covid19-dataset/train/Covid/051.jpeg  \n",
            "  inflating: /content/drive/MyDrive/Covid19-dataset/train/Covid/052.jpeg  \n",
            "  inflating: /content/drive/MyDrive/Covid19-dataset/train/Covid/053.jpeg  \n",
            "  inflating: /content/drive/MyDrive/Covid19-dataset/train/Covid/054.jpeg  \n",
            "  inflating: /content/drive/MyDrive/Covid19-dataset/train/Covid/055.jpeg  \n",
            "  inflating: /content/drive/MyDrive/Covid19-dataset/train/Covid/056.jpg  \n",
            "  inflating: /content/drive/MyDrive/Covid19-dataset/train/Covid/057.jpeg  \n",
            "  inflating: /content/drive/MyDrive/Covid19-dataset/train/Covid/058.jpeg  \n",
            "  inflating: /content/drive/MyDrive/Covid19-dataset/train/Covid/059.jpeg  \n",
            "  inflating: /content/drive/MyDrive/Covid19-dataset/train/Covid/06.jpeg  \n",
            "  inflating: /content/drive/MyDrive/Covid19-dataset/train/Covid/060.jpeg  \n",
            "  inflating: /content/drive/MyDrive/Covid19-dataset/train/Covid/061.jpg  \n",
            "  inflating: /content/drive/MyDrive/Covid19-dataset/train/Covid/062.jpeg  \n",
            "  inflating: /content/drive/MyDrive/Covid19-dataset/train/Covid/064.jpg  \n",
            "  inflating: /content/drive/MyDrive/Covid19-dataset/train/Covid/065.jpeg  \n",
            "  inflating: /content/drive/MyDrive/Covid19-dataset/train/Covid/067.jpg  \n",
            "  inflating: /content/drive/MyDrive/Covid19-dataset/train/Covid/068.jpg  \n",
            "  inflating: /content/drive/MyDrive/Covid19-dataset/train/Covid/069.jpg  \n",
            "  inflating: /content/drive/MyDrive/Covid19-dataset/train/Covid/07.jpg  \n",
            "  inflating: /content/drive/MyDrive/Covid19-dataset/train/Covid/071.jpg  \n",
            "  inflating: /content/drive/MyDrive/Covid19-dataset/train/Covid/072.jpeg  \n",
            "  inflating: /content/drive/MyDrive/Covid19-dataset/train/Covid/073.jpg  \n",
            "  inflating: /content/drive/MyDrive/Covid19-dataset/train/Covid/074.jpg  \n",
            "  inflating: /content/drive/MyDrive/Covid19-dataset/train/Covid/076.jpg  \n",
            "  inflating: /content/drive/MyDrive/Covid19-dataset/train/Covid/078.jpeg  \n",
            "  inflating: /content/drive/MyDrive/Covid19-dataset/train/Covid/079.jpeg  \n",
            "  inflating: /content/drive/MyDrive/Covid19-dataset/train/Covid/08.jpeg  \n",
            "  inflating: /content/drive/MyDrive/Covid19-dataset/train/Covid/080.jpg  \n",
            "  inflating: /content/drive/MyDrive/Covid19-dataset/train/Covid/081.jpeg  \n",
            "  inflating: /content/drive/MyDrive/Covid19-dataset/train/Covid/082.jpg  \n",
            "  inflating: /content/drive/MyDrive/Covid19-dataset/train/Covid/083.jpeg  \n",
            "  inflating: /content/drive/MyDrive/Covid19-dataset/train/Covid/084.jpeg  \n",
            "  inflating: /content/drive/MyDrive/Covid19-dataset/train/Covid/085.jpeg  \n",
            "  inflating: /content/drive/MyDrive/Covid19-dataset/train/Covid/086.jpg  \n",
            "  inflating: /content/drive/MyDrive/Covid19-dataset/train/Covid/088.jpeg  \n",
            "  inflating: /content/drive/MyDrive/Covid19-dataset/train/Covid/089.jpg  \n",
            "  inflating: /content/drive/MyDrive/Covid19-dataset/train/Covid/09.png  \n",
            "  inflating: /content/drive/MyDrive/Covid19-dataset/train/Covid/090.jpeg  \n",
            "  inflating: /content/drive/MyDrive/Covid19-dataset/train/Covid/091.jpg  \n",
            "  inflating: /content/drive/MyDrive/Covid19-dataset/train/Covid/092.png  \n",
            "  inflating: /content/drive/MyDrive/Covid19-dataset/train/Covid/COVID-00001.jpg  \n",
            "  inflating: /content/drive/MyDrive/Covid19-dataset/train/Covid/COVID-00002.jpg  \n",
            "  inflating: /content/drive/MyDrive/Covid19-dataset/train/Covid/COVID-00003a.jpg  \n",
            "  inflating: /content/drive/MyDrive/Covid19-dataset/train/Covid/COVID-00003b.jpg  \n",
            "  inflating: /content/drive/MyDrive/Covid19-dataset/train/Covid/COVID-00004.jpg  \n",
            "  inflating: /content/drive/MyDrive/Covid19-dataset/train/Covid/COVID-00005.jpg  \n",
            "  inflating: /content/drive/MyDrive/Covid19-dataset/train/Covid/COVID-00006.jpg  \n",
            "  inflating: /content/drive/MyDrive/Covid19-dataset/train/Covid/COVID-00007.jpg  \n",
            "  inflating: /content/drive/MyDrive/Covid19-dataset/train/Covid/COVID-00008.jpg  \n",
            "  inflating: /content/drive/MyDrive/Covid19-dataset/train/Covid/COVID-00009.jpg  \n",
            "  inflating: /content/drive/MyDrive/Covid19-dataset/train/Covid/COVID-00010.jpg  \n",
            "  inflating: /content/drive/MyDrive/Covid19-dataset/train/Covid/COVID-00011.jpg  \n",
            "  inflating: /content/drive/MyDrive/Covid19-dataset/train/Covid/COVID-00012.jpg  \n",
            "  inflating: /content/drive/MyDrive/Covid19-dataset/train/Covid/COVID-00013a.jpg  \n",
            "  inflating: /content/drive/MyDrive/Covid19-dataset/train/Covid/COVID-00013b.jpg  \n",
            "  inflating: /content/drive/MyDrive/Covid19-dataset/train/Covid/COVID-00014.jpg  \n",
            "  inflating: /content/drive/MyDrive/Covid19-dataset/train/Covid/COVID-00015a.png  \n",
            "  inflating: /content/drive/MyDrive/Covid19-dataset/train/Covid/COVID-00015b.png  \n",
            "  inflating: /content/drive/MyDrive/Covid19-dataset/train/Covid/COVID-00016.jpg  \n",
            "  inflating: /content/drive/MyDrive/Covid19-dataset/train/Covid/COVID-00017.jpg  \n",
            "  inflating: /content/drive/MyDrive/Covid19-dataset/train/Covid/COVID-00018.jpg  \n",
            "  inflating: /content/drive/MyDrive/Covid19-dataset/train/Covid/COVID-00019.jpg  \n",
            "  inflating: /content/drive/MyDrive/Covid19-dataset/train/Covid/COVID-00020.jpg  \n",
            "  inflating: /content/drive/MyDrive/Covid19-dataset/train/Covid/COVID-00021.jpg  \n",
            "  inflating: /content/drive/MyDrive/Covid19-dataset/train/Covid/COVID-00022.jpg  \n",
            "  inflating: /content/drive/MyDrive/Covid19-dataset/train/Covid/COVID-00023.jpg  \n",
            "  inflating: /content/drive/MyDrive/Covid19-dataset/train/Covid/COVID-00024.jpg  \n",
            "  inflating: /content/drive/MyDrive/Covid19-dataset/train/Covid/COVID-00025.jpg  \n",
            "  inflating: /content/drive/MyDrive/Covid19-dataset/train/Covid/COVID-00026.jpg  \n",
            "  inflating: /content/drive/MyDrive/Covid19-dataset/train/Covid/COVID-00027.jpg  \n",
            "  inflating: /content/drive/MyDrive/Covid19-dataset/train/Covid/COVID-00028.jpg  \n",
            "  inflating: /content/drive/MyDrive/Covid19-dataset/train/Covid/COVID-00029.jpg  \n",
            "  inflating: /content/drive/MyDrive/Covid19-dataset/train/Covid/COVID-00030.jpg  \n",
            "  inflating: /content/drive/MyDrive/Covid19-dataset/train/Covid/COVID-00031.jpg  \n",
            "  inflating: /content/drive/MyDrive/Covid19-dataset/train/Covid/COVID-00032.jpg  \n",
            "  inflating: /content/drive/MyDrive/Covid19-dataset/train/Covid/COVID-00033.jpg  \n",
            "  inflating: /content/drive/MyDrive/Covid19-dataset/train/Covid/COVID-00034.jpg  \n",
            "  inflating: /content/drive/MyDrive/Covid19-dataset/train/Covid/COVID-00035.jpg  \n",
            "  inflating: /content/drive/MyDrive/Covid19-dataset/train/Covid/COVID-00036.jpg  \n",
            "  inflating: /content/drive/MyDrive/Covid19-dataset/train/Covid/COVID-00037.jpg  \n",
            "  inflating: /content/drive/MyDrive/Covid19-dataset/train/Covid/COVID-00038.jpg  \n",
            "  inflating: /content/drive/MyDrive/Covid19-dataset/train/Normal/01.jpeg  \n",
            "  inflating: /content/drive/MyDrive/Covid19-dataset/train/Normal/010.jpeg  \n",
            "  inflating: /content/drive/MyDrive/Covid19-dataset/train/Normal/011.jpeg  \n",
            "  inflating: /content/drive/MyDrive/Covid19-dataset/train/Normal/012.jpeg  \n",
            "  inflating: /content/drive/MyDrive/Covid19-dataset/train/Normal/013.jpeg  \n",
            "  inflating: /content/drive/MyDrive/Covid19-dataset/train/Normal/014.jpeg  \n",
            "  inflating: /content/drive/MyDrive/Covid19-dataset/train/Normal/015.jpeg  \n",
            "  inflating: /content/drive/MyDrive/Covid19-dataset/train/Normal/016.jpeg  \n",
            "  inflating: /content/drive/MyDrive/Covid19-dataset/train/Normal/017.jpeg  \n",
            "  inflating: /content/drive/MyDrive/Covid19-dataset/train/Normal/018.jpeg  \n",
            "  inflating: /content/drive/MyDrive/Covid19-dataset/train/Normal/019.jpeg  \n",
            "  inflating: /content/drive/MyDrive/Covid19-dataset/train/Normal/02.jpeg  \n",
            "  inflating: /content/drive/MyDrive/Covid19-dataset/train/Normal/020.jpeg  \n",
            "  inflating: /content/drive/MyDrive/Covid19-dataset/train/Normal/021.jpeg  \n",
            "  inflating: /content/drive/MyDrive/Covid19-dataset/train/Normal/022.jpeg  \n",
            "  inflating: /content/drive/MyDrive/Covid19-dataset/train/Normal/023.jpeg  \n",
            "  inflating: /content/drive/MyDrive/Covid19-dataset/train/Normal/024.jpeg  \n",
            "  inflating: /content/drive/MyDrive/Covid19-dataset/train/Normal/025.jpeg  \n",
            "  inflating: /content/drive/MyDrive/Covid19-dataset/train/Normal/03.jpeg  \n",
            "  inflating: /content/drive/MyDrive/Covid19-dataset/train/Normal/04.jpeg  \n",
            "  inflating: /content/drive/MyDrive/Covid19-dataset/train/Normal/05.jpeg  \n",
            "  inflating: /content/drive/MyDrive/Covid19-dataset/train/Normal/050.jpeg  \n",
            "  inflating: /content/drive/MyDrive/Covid19-dataset/train/Normal/051.jpeg  \n",
            "  inflating: /content/drive/MyDrive/Covid19-dataset/train/Normal/052.jpeg  \n",
            "  inflating: /content/drive/MyDrive/Covid19-dataset/train/Normal/053.jpeg  \n",
            "  inflating: /content/drive/MyDrive/Covid19-dataset/train/Normal/054.jpeg  \n",
            "  inflating: /content/drive/MyDrive/Covid19-dataset/train/Normal/055.jpeg  \n",
            "  inflating: /content/drive/MyDrive/Covid19-dataset/train/Normal/056.jpeg  \n",
            "  inflating: /content/drive/MyDrive/Covid19-dataset/train/Normal/057.jpeg  \n",
            "  inflating: /content/drive/MyDrive/Covid19-dataset/train/Normal/058.jpeg  \n",
            "  inflating: /content/drive/MyDrive/Covid19-dataset/train/Normal/059.jpeg  \n",
            "  inflating: /content/drive/MyDrive/Covid19-dataset/train/Normal/06.jpeg  \n",
            "  inflating: /content/drive/MyDrive/Covid19-dataset/train/Normal/060.jpeg  \n",
            "  inflating: /content/drive/MyDrive/Covid19-dataset/train/Normal/061.jpeg  \n",
            "  inflating: /content/drive/MyDrive/Covid19-dataset/train/Normal/062.jpeg  \n",
            "  inflating: /content/drive/MyDrive/Covid19-dataset/train/Normal/063.jpeg  \n",
            "  inflating: /content/drive/MyDrive/Covid19-dataset/train/Normal/064.jpeg  \n",
            "  inflating: /content/drive/MyDrive/Covid19-dataset/train/Normal/065.jpeg  \n",
            "  inflating: /content/drive/MyDrive/Covid19-dataset/train/Normal/066.jpeg  \n",
            "  inflating: /content/drive/MyDrive/Covid19-dataset/train/Normal/067.jpeg  \n",
            "  inflating: /content/drive/MyDrive/Covid19-dataset/train/Normal/068.jpeg  \n",
            "  inflating: /content/drive/MyDrive/Covid19-dataset/train/Normal/069.jpeg  \n",
            "  inflating: /content/drive/MyDrive/Covid19-dataset/train/Normal/07.jpeg  \n",
            "  inflating: /content/drive/MyDrive/Covid19-dataset/train/Normal/070.jpeg  \n",
            "  inflating: /content/drive/MyDrive/Covid19-dataset/train/Normal/071.jpeg  \n",
            "  inflating: /content/drive/MyDrive/Covid19-dataset/train/Normal/072.jpeg  \n",
            "  inflating: /content/drive/MyDrive/Covid19-dataset/train/Normal/073.jpeg  \n",
            "  inflating: /content/drive/MyDrive/Covid19-dataset/train/Normal/074.jpeg  \n",
            "  inflating: /content/drive/MyDrive/Covid19-dataset/train/Normal/075.jpeg  \n",
            "  inflating: /content/drive/MyDrive/Covid19-dataset/train/Normal/076.jpeg  \n",
            "  inflating: /content/drive/MyDrive/Covid19-dataset/train/Normal/077.jpeg  \n",
            "  inflating: /content/drive/MyDrive/Covid19-dataset/train/Normal/079.jpeg  \n",
            "  inflating: /content/drive/MyDrive/Covid19-dataset/train/Normal/08.jpeg  \n",
            "  inflating: /content/drive/MyDrive/Covid19-dataset/train/Normal/080.jpeg  \n",
            "  inflating: /content/drive/MyDrive/Covid19-dataset/train/Normal/081.jpeg  \n",
            "  inflating: /content/drive/MyDrive/Covid19-dataset/train/Normal/082.jpeg  \n",
            "  inflating: /content/drive/MyDrive/Covid19-dataset/train/Normal/083.jpeg  \n",
            "  inflating: /content/drive/MyDrive/Covid19-dataset/train/Normal/084.jpeg  \n",
            "  inflating: /content/drive/MyDrive/Covid19-dataset/train/Normal/085.jpeg  \n",
            "  inflating: /content/drive/MyDrive/Covid19-dataset/train/Normal/086.jpeg  \n",
            "  inflating: /content/drive/MyDrive/Covid19-dataset/train/Normal/087.jpeg  \n",
            "  inflating: /content/drive/MyDrive/Covid19-dataset/train/Normal/088.jpeg  \n",
            "  inflating: /content/drive/MyDrive/Covid19-dataset/train/Normal/09.jpeg  \n",
            "  inflating: /content/drive/MyDrive/Covid19-dataset/train/Normal/091.jpeg  \n",
            "  inflating: /content/drive/MyDrive/Covid19-dataset/train/Normal/092.jpeg  \n",
            "  inflating: /content/drive/MyDrive/Covid19-dataset/train/Normal/093.jpeg  \n",
            "  inflating: /content/drive/MyDrive/Covid19-dataset/train/Normal/094.jpeg  \n",
            "  inflating: /content/drive/MyDrive/Covid19-dataset/train/Normal/095.jpeg  \n",
            "  inflating: /content/drive/MyDrive/Covid19-dataset/train/Normal/096.jpeg  \n",
            "  inflating: /content/drive/MyDrive/Covid19-dataset/train/Normal/097.jpeg  \n",
            "  inflating: /content/drive/MyDrive/Covid19-dataset/train/Viral Pneumonia/01.jpeg  \n",
            "  inflating: /content/drive/MyDrive/Covid19-dataset/train/Viral Pneumonia/010.jpeg  \n",
            "  inflating: /content/drive/MyDrive/Covid19-dataset/train/Viral Pneumonia/011.jpeg  \n",
            "  inflating: /content/drive/MyDrive/Covid19-dataset/train/Viral Pneumonia/012.jpeg  \n",
            "  inflating: /content/drive/MyDrive/Covid19-dataset/train/Viral Pneumonia/013.jpeg  \n",
            "  inflating: /content/drive/MyDrive/Covid19-dataset/train/Viral Pneumonia/016.jpeg  \n",
            "  inflating: /content/drive/MyDrive/Covid19-dataset/train/Viral Pneumonia/018.jpeg  \n",
            "  inflating: /content/drive/MyDrive/Covid19-dataset/train/Viral Pneumonia/019.jpeg  \n",
            "  inflating: /content/drive/MyDrive/Covid19-dataset/train/Viral Pneumonia/02.jpeg  \n",
            "  inflating: /content/drive/MyDrive/Covid19-dataset/train/Viral Pneumonia/020.jpeg  \n",
            "  inflating: /content/drive/MyDrive/Covid19-dataset/train/Viral Pneumonia/021.jpeg  \n",
            "  inflating: /content/drive/MyDrive/Covid19-dataset/train/Viral Pneumonia/022.jpeg  \n",
            "  inflating: /content/drive/MyDrive/Covid19-dataset/train/Viral Pneumonia/023.jpeg  \n",
            "  inflating: /content/drive/MyDrive/Covid19-dataset/train/Viral Pneumonia/024.jpeg  \n",
            "  inflating: /content/drive/MyDrive/Covid19-dataset/train/Viral Pneumonia/025.jpeg  \n",
            "  inflating: /content/drive/MyDrive/Covid19-dataset/train/Viral Pneumonia/027.jpeg  \n",
            "  inflating: /content/drive/MyDrive/Covid19-dataset/train/Viral Pneumonia/03.jpeg  \n",
            "  inflating: /content/drive/MyDrive/Covid19-dataset/train/Viral Pneumonia/031.jpeg  \n",
            "  inflating: /content/drive/MyDrive/Covid19-dataset/train/Viral Pneumonia/032.jpeg  \n",
            "  inflating: /content/drive/MyDrive/Covid19-dataset/train/Viral Pneumonia/033.jpeg  \n",
            "  inflating: /content/drive/MyDrive/Covid19-dataset/train/Viral Pneumonia/034.jpeg  \n",
            "  inflating: /content/drive/MyDrive/Covid19-dataset/train/Viral Pneumonia/035.jpeg  \n",
            "  inflating: /content/drive/MyDrive/Covid19-dataset/train/Viral Pneumonia/036.jpeg  \n",
            "  inflating: /content/drive/MyDrive/Covid19-dataset/train/Viral Pneumonia/037.jpeg  \n",
            "  inflating: /content/drive/MyDrive/Covid19-dataset/train/Viral Pneumonia/038.jpeg  \n",
            "  inflating: /content/drive/MyDrive/Covid19-dataset/train/Viral Pneumonia/04.jpeg  \n",
            "  inflating: /content/drive/MyDrive/Covid19-dataset/train/Viral Pneumonia/041.jpeg  \n",
            "  inflating: /content/drive/MyDrive/Covid19-dataset/train/Viral Pneumonia/042.jpeg  \n",
            "  inflating: /content/drive/MyDrive/Covid19-dataset/train/Viral Pneumonia/043.jpeg  \n",
            "  inflating: /content/drive/MyDrive/Covid19-dataset/train/Viral Pneumonia/044.jpeg  \n",
            "  inflating: /content/drive/MyDrive/Covid19-dataset/train/Viral Pneumonia/045.jpeg  \n",
            "  inflating: /content/drive/MyDrive/Covid19-dataset/train/Viral Pneumonia/046.jpeg  \n",
            "  inflating: /content/drive/MyDrive/Covid19-dataset/train/Viral Pneumonia/047.jpeg  \n",
            "  inflating: /content/drive/MyDrive/Covid19-dataset/train/Viral Pneumonia/048.jpeg  \n",
            "  inflating: /content/drive/MyDrive/Covid19-dataset/train/Viral Pneumonia/05.jpeg  \n",
            "  inflating: /content/drive/MyDrive/Covid19-dataset/train/Viral Pneumonia/051.jpeg  \n",
            "  inflating: /content/drive/MyDrive/Covid19-dataset/train/Viral Pneumonia/052.jpeg  \n",
            "  inflating: /content/drive/MyDrive/Covid19-dataset/train/Viral Pneumonia/053.jpeg  \n",
            "  inflating: /content/drive/MyDrive/Covid19-dataset/train/Viral Pneumonia/054.jpeg  \n",
            "  inflating: /content/drive/MyDrive/Covid19-dataset/train/Viral Pneumonia/055.jpeg  \n",
            "  inflating: /content/drive/MyDrive/Covid19-dataset/train/Viral Pneumonia/056.jpeg  \n",
            "  inflating: /content/drive/MyDrive/Covid19-dataset/train/Viral Pneumonia/057.jpeg  \n",
            "  inflating: /content/drive/MyDrive/Covid19-dataset/train/Viral Pneumonia/058.jpeg  \n",
            "  inflating: /content/drive/MyDrive/Covid19-dataset/train/Viral Pneumonia/06.jpeg  \n",
            "  inflating: /content/drive/MyDrive/Covid19-dataset/train/Viral Pneumonia/061.jpeg  \n",
            "  inflating: /content/drive/MyDrive/Covid19-dataset/train/Viral Pneumonia/062.jpeg  \n",
            "  inflating: /content/drive/MyDrive/Covid19-dataset/train/Viral Pneumonia/063.jpeg  \n",
            "  inflating: /content/drive/MyDrive/Covid19-dataset/train/Viral Pneumonia/064.jpeg  \n",
            "  inflating: /content/drive/MyDrive/Covid19-dataset/train/Viral Pneumonia/065.jpeg  \n",
            "  inflating: /content/drive/MyDrive/Covid19-dataset/train/Viral Pneumonia/066.jpeg  \n",
            "  inflating: /content/drive/MyDrive/Covid19-dataset/train/Viral Pneumonia/067.jpeg  \n",
            "  inflating: /content/drive/MyDrive/Covid19-dataset/train/Viral Pneumonia/068.jpeg  \n",
            "  inflating: /content/drive/MyDrive/Covid19-dataset/train/Viral Pneumonia/07.jpeg  \n",
            "  inflating: /content/drive/MyDrive/Covid19-dataset/train/Viral Pneumonia/071.jpeg  \n",
            "  inflating: /content/drive/MyDrive/Covid19-dataset/train/Viral Pneumonia/072.jpeg  \n",
            "  inflating: /content/drive/MyDrive/Covid19-dataset/train/Viral Pneumonia/073.jpeg  \n",
            "  inflating: /content/drive/MyDrive/Covid19-dataset/train/Viral Pneumonia/074.jpeg  \n",
            "  inflating: /content/drive/MyDrive/Covid19-dataset/train/Viral Pneumonia/075.jpeg  \n",
            "  inflating: /content/drive/MyDrive/Covid19-dataset/train/Viral Pneumonia/076.jpeg  \n",
            "  inflating: /content/drive/MyDrive/Covid19-dataset/train/Viral Pneumonia/077.jpeg  \n",
            "  inflating: /content/drive/MyDrive/Covid19-dataset/train/Viral Pneumonia/078.jpeg  \n",
            "  inflating: /content/drive/MyDrive/Covid19-dataset/train/Viral Pneumonia/08.jpeg  \n",
            "  inflating: /content/drive/MyDrive/Covid19-dataset/train/Viral Pneumonia/081.jpeg  \n",
            "  inflating: /content/drive/MyDrive/Covid19-dataset/train/Viral Pneumonia/082.jpeg  \n",
            "  inflating: /content/drive/MyDrive/Covid19-dataset/train/Viral Pneumonia/083.jpeg  \n",
            "  inflating: /content/drive/MyDrive/Covid19-dataset/train/Viral Pneumonia/084.jpeg  \n",
            "  inflating: /content/drive/MyDrive/Covid19-dataset/train/Viral Pneumonia/09.jpeg  \n",
            "  inflating: /content/drive/MyDrive/Covid19-dataset/train/Viral Pneumonia/094.jpeg  \n",
            "  inflating: /content/drive/MyDrive/Covid19-dataset/train/Viral Pneumonia/095.jpeg  \n",
            "  inflating: /content/drive/MyDrive/Covid19-dataset/train/Viral Pneumonia/096.jpeg  \n"
          ],
          "name": "stdout"
        }
      ]
    },
    {
      "cell_type": "code",
      "metadata": {
        "id": "nWm6jaGOAh-f"
      },
      "source": [
        "from tensorflow.keras.layers import Input, Lambda, Dense, Flatten\n",
        "from tensorflow.keras.models import Model\n",
        "from tensorflow.keras.applications.resnet50 import ResNet50\n",
        "from keras.applications.vgg16 import VGG16\n",
        "from tensorflow.keras.applications.resnet50 import preprocess_input\n",
        "from tensorflow.keras.preprocessing import image\n",
        "from tensorflow.keras.preprocessing.image import ImageDataGenerator,load_img\n",
        "from tensorflow.keras.models import Sequential\n",
        "import numpy as np\n",
        "from glob import glob\n",
        "import matplotlib.pyplot as plt"
      ],
      "execution_count": null,
      "outputs": []
    },
    {
      "cell_type": "markdown",
      "metadata": {
        "id": "HWU_B4IxDWtp"
      },
      "source": [
        ""
      ]
    },
    {
      "cell_type": "code",
      "metadata": {
        "id": "rCUK_czEA8_B"
      },
      "source": [
        "IMAGE_SIZE = [224, 224] # the image of art take size of [224,224] thats why we take here.\n",
        "\n",
        "train_path = '/content/drive/MyDrive/Covid19-dataset/train'\n",
        "valid_path = '/content/drive/MyDrive/Covid19-dataset/test'"
      ],
      "execution_count": null,
      "outputs": []
    },
    {
      "cell_type": "code",
      "metadata": {
        "colab": {
          "base_uri": "https://localhost:8080/"
        },
        "id": "NHFjsLLGBKFZ",
        "outputId": "ef96593f-7fc4-479e-9988-2f05bff4436b"
      },
      "source": [
        "vgg = VGG16(input_shape=IMAGE_SIZE + [3], weights='imagenet', include_top=False)"
      ],
      "execution_count": null,
      "outputs": [
        {
          "output_type": "stream",
          "text": [
            "Downloading data from https://storage.googleapis.com/tensorflow/keras-applications/vgg16/vgg16_weights_tf_dim_ordering_tf_kernels_notop.h5\n",
            "58892288/58889256 [==============================] - 1s 0us/step\n"
          ],
          "name": "stdout"
        }
      ]
    },
    {
      "cell_type": "code",
      "metadata": {
        "id": "5OcQPxwnBRp_"
      },
      "source": [
        "for layer in vgg.layers:\n",
        "  layer.trainable=False"
      ],
      "execution_count": null,
      "outputs": []
    },
    {
      "cell_type": "code",
      "metadata": {
        "id": "4m-depC_BXoV"
      },
      "source": [
        "folders=glob( '/content/drive/MyDrive/Covid19-dataset/train/*')"
      ],
      "execution_count": null,
      "outputs": []
    },
    {
      "cell_type": "code",
      "metadata": {
        "id": "Zkx--9hvBgTT"
      },
      "source": [
        "x=Flatten()(vgg.output)\n",
        "\n",
        "prediction=Dense(len(folders),activation='softmax')(x)\n",
        "\n",
        "\n",
        "model = Model(inputs=vgg.input, outputs=prediction)\n"
      ],
      "execution_count": null,
      "outputs": []
    },
    {
      "cell_type": "code",
      "metadata": {
        "colab": {
          "base_uri": "https://localhost:8080/"
        },
        "id": "h9Yh7W3SBrG9",
        "outputId": "eb3fe98f-09b6-49c6-c242-c30c08c436cc"
      },
      "source": [
        "model.summary()"
      ],
      "execution_count": null,
      "outputs": [
        {
          "output_type": "stream",
          "text": [
            "Model: \"model\"\n",
            "_________________________________________________________________\n",
            "Layer (type)                 Output Shape              Param #   \n",
            "=================================================================\n",
            "input_1 (InputLayer)         [(None, 224, 224, 3)]     0         \n",
            "_________________________________________________________________\n",
            "block1_conv1 (Conv2D)        (None, 224, 224, 64)      1792      \n",
            "_________________________________________________________________\n",
            "block1_conv2 (Conv2D)        (None, 224, 224, 64)      36928     \n",
            "_________________________________________________________________\n",
            "block1_pool (MaxPooling2D)   (None, 112, 112, 64)      0         \n",
            "_________________________________________________________________\n",
            "block2_conv1 (Conv2D)        (None, 112, 112, 128)     73856     \n",
            "_________________________________________________________________\n",
            "block2_conv2 (Conv2D)        (None, 112, 112, 128)     147584    \n",
            "_________________________________________________________________\n",
            "block2_pool (MaxPooling2D)   (None, 56, 56, 128)       0         \n",
            "_________________________________________________________________\n",
            "block3_conv1 (Conv2D)        (None, 56, 56, 256)       295168    \n",
            "_________________________________________________________________\n",
            "block3_conv2 (Conv2D)        (None, 56, 56, 256)       590080    \n",
            "_________________________________________________________________\n",
            "block3_conv3 (Conv2D)        (None, 56, 56, 256)       590080    \n",
            "_________________________________________________________________\n",
            "block3_pool (MaxPooling2D)   (None, 28, 28, 256)       0         \n",
            "_________________________________________________________________\n",
            "block4_conv1 (Conv2D)        (None, 28, 28, 512)       1180160   \n",
            "_________________________________________________________________\n",
            "block4_conv2 (Conv2D)        (None, 28, 28, 512)       2359808   \n",
            "_________________________________________________________________\n",
            "block4_conv3 (Conv2D)        (None, 28, 28, 512)       2359808   \n",
            "_________________________________________________________________\n",
            "block4_pool (MaxPooling2D)   (None, 14, 14, 512)       0         \n",
            "_________________________________________________________________\n",
            "block5_conv1 (Conv2D)        (None, 14, 14, 512)       2359808   \n",
            "_________________________________________________________________\n",
            "block5_conv2 (Conv2D)        (None, 14, 14, 512)       2359808   \n",
            "_________________________________________________________________\n",
            "block5_conv3 (Conv2D)        (None, 14, 14, 512)       2359808   \n",
            "_________________________________________________________________\n",
            "block5_pool (MaxPooling2D)   (None, 7, 7, 512)         0         \n",
            "_________________________________________________________________\n",
            "flatten (Flatten)            (None, 25088)             0         \n",
            "_________________________________________________________________\n",
            "dense (Dense)                (None, 3)                 75267     \n",
            "=================================================================\n",
            "Total params: 14,789,955\n",
            "Trainable params: 75,267\n",
            "Non-trainable params: 14,714,688\n",
            "_________________________________________________________________\n"
          ],
          "name": "stdout"
        }
      ]
    },
    {
      "cell_type": "code",
      "metadata": {
        "id": "NTtNTqt4CeQY"
      },
      "source": [
        "model.compile(\n",
        "  loss='categorical_crossentropy',\n",
        "  optimizer='adam',\n",
        "  metrics=['accuracy']\n",
        ")"
      ],
      "execution_count": null,
      "outputs": []
    },
    {
      "cell_type": "code",
      "metadata": {
        "id": "y9tKKBW2CktG"
      },
      "source": [
        "from tensorflow.keras.preprocessing.image import ImageDataGenerator\n",
        "\n",
        "train_datagen = ImageDataGenerator(rescale = 1./255,\n",
        "                                   shear_range = 0.2,\n",
        "                                   zoom_range = 0.2,\n",
        "                                   horizontal_flip = True)\n",
        "\n",
        "test_datagen = ImageDataGenerator(rescale = 1./255)"
      ],
      "execution_count": null,
      "outputs": []
    },
    {
      "cell_type": "code",
      "metadata": {
        "colab": {
          "base_uri": "https://localhost:8080/"
        },
        "id": "xh1M--B3CoqO",
        "outputId": "3e19f787-2057-4f5d-d233-907375c3566f"
      },
      "source": [
        "# Make sure you provide the same target size as initialied for the image size\n",
        "training_set = train_datagen.flow_from_directory('/content/drive/MyDrive/Covid19-dataset/train',\n",
        "                                                 target_size = (224, 224),\n",
        "                                                 batch_size = 32,\n",
        "                                                 class_mode = 'categorical')\n"
      ],
      "execution_count": null,
      "outputs": [
        {
          "output_type": "stream",
          "text": [
            "Found 251 images belonging to 3 classes.\n"
          ],
          "name": "stdout"
        }
      ]
    },
    {
      "cell_type": "code",
      "metadata": {
        "colab": {
          "base_uri": "https://localhost:8080/"
        },
        "id": "p3aqpJfjCxNx",
        "outputId": "50b731ee-836b-4af4-ad31-a9ee663cac76"
      },
      "source": [
        "test_set = test_datagen.flow_from_directory('/content/drive/MyDrive/Covid19-dataset/test',\n",
        "                                            target_size = (224, 224),\n",
        "                                            batch_size = 32,\n",
        "                                            class_mode = 'categorical')"
      ],
      "execution_count": null,
      "outputs": [
        {
          "output_type": "stream",
          "text": [
            "Found 66 images belonging to 3 classes.\n"
          ],
          "name": "stdout"
        }
      ]
    },
    {
      "cell_type": "code",
      "metadata": {
        "colab": {
          "base_uri": "https://localhost:8080/"
        },
        "id": "AXKl2ixyC-GM",
        "outputId": "4e953ffb-2e0c-4ff5-fbe3-37bf4b3b0bea"
      },
      "source": [
        "r = model.fit_generator(\n",
        "  training_set,\n",
        "  validation_data=test_set,\n",
        "  epochs=10,\n",
        "  steps_per_epoch=len(training_set),\n",
        "  validation_steps=len(test_set)\n",
        ")"
      ],
      "execution_count": null,
      "outputs": [
        {
          "output_type": "stream",
          "text": [
            "/usr/local/lib/python3.7/dist-packages/tensorflow/python/keras/engine/training.py:1844: UserWarning: `Model.fit_generator` is deprecated and will be removed in a future version. Please use `Model.fit`, which supports generators.\n",
            "  warnings.warn('`Model.fit_generator` is deprecated and '\n"
          ],
          "name": "stderr"
        },
        {
          "output_type": "stream",
          "text": [
            "Epoch 1/10\n",
            "8/8 [==============================] - 188s 23s/step - loss: 1.3109 - accuracy: 0.5000 - val_loss: 0.4077 - val_accuracy: 0.7879\n",
            "Epoch 2/10\n",
            "8/8 [==============================] - 179s 23s/step - loss: 0.3598 - accuracy: 0.8480 - val_loss: 0.2259 - val_accuracy: 0.9091\n",
            "Epoch 3/10\n",
            "8/8 [==============================] - 172s 22s/step - loss: 0.2122 - accuracy: 0.9021 - val_loss: 0.1674 - val_accuracy: 0.9545\n",
            "Epoch 4/10\n",
            "8/8 [==============================] - 173s 22s/step - loss: 0.1757 - accuracy: 0.9564 - val_loss: 0.1330 - val_accuracy: 0.9697\n",
            "Epoch 5/10\n",
            "8/8 [==============================] - 176s 22s/step - loss: 0.0898 - accuracy: 0.9795 - val_loss: 0.1142 - val_accuracy: 0.9545\n",
            "Epoch 6/10\n",
            "8/8 [==============================] - 173s 22s/step - loss: 0.1025 - accuracy: 0.9704 - val_loss: 0.1032 - val_accuracy: 1.0000\n",
            "Epoch 7/10\n",
            "8/8 [==============================] - 174s 22s/step - loss: 0.0563 - accuracy: 0.9980 - val_loss: 0.1135 - val_accuracy: 0.9545\n",
            "Epoch 8/10\n",
            "8/8 [==============================] - 174s 22s/step - loss: 0.0523 - accuracy: 0.9973 - val_loss: 0.0933 - val_accuracy: 1.0000\n",
            "Epoch 9/10\n",
            "8/8 [==============================] - 174s 22s/step - loss: 0.0735 - accuracy: 0.9803 - val_loss: 0.0934 - val_accuracy: 0.9545\n",
            "Epoch 10/10\n",
            "8/8 [==============================] - 182s 23s/step - loss: 0.0401 - accuracy: 0.9982 - val_loss: 0.0921 - val_accuracy: 0.9848\n"
          ],
          "name": "stdout"
        }
      ]
    },
    {
      "cell_type": "code",
      "metadata": {
        "colab": {
          "base_uri": "https://localhost:8080/"
        },
        "id": "sAjz8hXnDXvc",
        "outputId": "ec1c47f7-aae9-45c0-bb22-49dec59b20f5"
      },
      "source": [
        "r.history"
      ],
      "execution_count": null,
      "outputs": [
        {
          "output_type": "execute_result",
          "data": {
            "text/plain": [
              "{'accuracy': [0.6454183459281921,\n",
              "  0.8884462118148804,\n",
              "  0.8964143395423889,\n",
              "  0.9601593613624573,\n",
              "  0.9760956168174744,\n",
              "  0.980079710483551,\n",
              "  0.9960159659385681,\n",
              "  0.9960159659385681,\n",
              "  0.9840637445449829,\n",
              "  0.9920318722724915],\n",
              " 'loss': [1.0169700384140015,\n",
              "  0.297542929649353,\n",
              "  0.21434564888477325,\n",
              "  0.15117348730564117,\n",
              "  0.09586728364229202,\n",
              "  0.0859241634607315,\n",
              "  0.0594683401286602,\n",
              "  0.050998810678720474,\n",
              "  0.057373303920030594,\n",
              "  0.05512377992272377],\n",
              " 'val_accuracy': [0.7878788113594055,\n",
              "  0.9090909361839294,\n",
              "  0.9545454382896423,\n",
              "  0.9696969985961914,\n",
              "  0.9545454382896423,\n",
              "  1.0,\n",
              "  0.9545454382896423,\n",
              "  1.0,\n",
              "  0.9545454382896423,\n",
              "  0.9848484992980957],\n",
              " 'val_loss': [0.407712459564209,\n",
              "  0.22590406239032745,\n",
              "  0.1673826277256012,\n",
              "  0.1329890936613083,\n",
              "  0.11416540294885635,\n",
              "  0.10317893326282501,\n",
              "  0.11348167061805725,\n",
              "  0.09326566010713577,\n",
              "  0.0933995395898819,\n",
              "  0.09206879138946533]}"
            ]
          },
          "metadata": {
            "tags": []
          },
          "execution_count": 14
        }
      ]
    },
    {
      "cell_type": "code",
      "metadata": {
        "id": "tc_VRBIwGVGU"
      },
      "source": [
        "from tensorflow.keras.models import load_model\n",
        "\n",
        "model.save('covid_vgg.h5')"
      ],
      "execution_count": null,
      "outputs": []
    },
    {
      "cell_type": "code",
      "metadata": {
        "colab": {
          "base_uri": "https://localhost:8080/"
        },
        "id": "4l-JMIvJGfrZ",
        "outputId": "df639683-ae24-4d5c-ed96-35d2df47d0d2"
      },
      "source": [
        "y_pred=model.predict(test_set)\n",
        "y_pred"
      ],
      "execution_count": null,
      "outputs": [
        {
          "output_type": "execute_result",
          "data": {
            "text/plain": [
              "array([[9.97004807e-01, 3.04532557e-04, 2.69063865e-03],\n",
              "       [2.06605229e-03, 2.93256968e-01, 7.04676986e-01],\n",
              "       [9.98009145e-01, 6.43818581e-04, 1.34702702e-03],\n",
              "       [9.98578429e-01, 1.84208784e-05, 1.40317052e-03],\n",
              "       [2.22084273e-04, 9.93510425e-01, 6.26746425e-03],\n",
              "       [1.71336185e-04, 3.53205204e-02, 9.64508116e-01],\n",
              "       [9.98497367e-01, 2.78454158e-04, 1.22419500e-03],\n",
              "       [1.60280470e-04, 9.96303797e-01, 3.53590399e-03],\n",
              "       [1.10786624e-01, 8.76239121e-01, 1.29742026e-02],\n",
              "       [9.99571621e-01, 4.01760954e-05, 3.88163724e-04],\n",
              "       [9.98183787e-01, 1.68534135e-03, 1.30876098e-04],\n",
              "       [2.92146225e-02, 3.98640707e-03, 9.66798961e-01],\n",
              "       [1.23847232e-04, 9.60935235e-01, 3.89409959e-02],\n",
              "       [3.19875926e-02, 4.47733290e-02, 9.23239112e-01],\n",
              "       [1.55596979e-04, 3.74015130e-04, 9.99470413e-01],\n",
              "       [2.67243711e-04, 7.78910458e-01, 2.20822290e-01],\n",
              "       [1.42927596e-03, 3.43231075e-02, 9.64247584e-01],\n",
              "       [9.95265841e-01, 2.62377458e-03, 2.11030873e-03],\n",
              "       [9.48106870e-03, 4.27745236e-03, 9.86241460e-01],\n",
              "       [2.58211676e-05, 4.73461956e-01, 5.26512265e-01],\n",
              "       [4.26993975e-05, 9.22190964e-01, 7.77663141e-02],\n",
              "       [9.62142944e-01, 2.07223650e-02, 1.71346888e-02],\n",
              "       [4.25230851e-03, 6.44414246e-01, 3.51333410e-01],\n",
              "       [6.81349848e-05, 9.90660727e-01, 9.27111227e-03],\n",
              "       [5.25771349e-04, 7.94708073e-01, 2.04766169e-01],\n",
              "       [9.99372780e-01, 1.64852227e-05, 6.10799703e-04],\n",
              "       [9.97152328e-01, 1.51755440e-03, 1.32998719e-03],\n",
              "       [9.98417974e-01, 4.73483844e-04, 1.10849924e-03],\n",
              "       [6.34540280e-04, 1.67353055e-03, 9.97691989e-01],\n",
              "       [1.70249976e-02, 9.75733459e-01, 7.24151218e-03],\n",
              "       [9.99005616e-01, 7.50863255e-05, 9.19380051e-04],\n",
              "       [1.58207584e-03, 8.21751952e-01, 1.76666036e-01],\n",
              "       [9.99368131e-01, 2.28280129e-04, 4.03630460e-04],\n",
              "       [3.00138257e-04, 5.74704587e-01, 4.24995303e-01],\n",
              "       [9.97722089e-01, 2.11431270e-05, 2.25667492e-03],\n",
              "       [3.49416980e-04, 3.05269565e-03, 9.96597946e-01],\n",
              "       [9.99895930e-01, 3.53305154e-06, 1.00464058e-04],\n",
              "       [1.59448676e-03, 2.99486443e-02, 9.68456864e-01],\n",
              "       [9.92019355e-01, 2.85765040e-03, 5.12291119e-03],\n",
              "       [9.99697924e-01, 4.47427374e-05, 2.57457752e-04],\n",
              "       [2.13996336e-05, 7.47544132e-03, 9.92503166e-01],\n",
              "       [9.99307632e-01, 1.76798167e-05, 6.74687035e-04],\n",
              "       [5.70761913e-04, 1.65086955e-01, 8.34342360e-01],\n",
              "       [2.42459559e-04, 8.35143268e-01, 1.64614350e-01],\n",
              "       [1.68303479e-04, 6.79338634e-01, 3.20493072e-01],\n",
              "       [8.12948056e-05, 4.01447201e-03, 9.95904267e-01],\n",
              "       [1.46169188e-02, 3.01209122e-01, 6.84174001e-01],\n",
              "       [9.48139668e-01, 2.39662044e-02, 2.78940741e-02],\n",
              "       [7.42474731e-05, 9.54809546e-01, 4.51162681e-02],\n",
              "       [7.98678884e-05, 5.77087879e-01, 4.22832280e-01],\n",
              "       [1.57183385e-04, 3.87666404e-01, 6.12176418e-01],\n",
              "       [6.49980866e-05, 2.11373940e-02, 9.78797615e-01],\n",
              "       [9.97107208e-01, 3.24195717e-04, 2.56868079e-03],\n",
              "       [9.99815524e-01, 2.45715437e-05, 1.59924777e-04],\n",
              "       [1.55116344e-04, 7.49012455e-02, 9.24943626e-01],\n",
              "       [3.88126867e-03, 9.69092369e-01, 2.70263702e-02],\n",
              "       [6.79582299e-05, 9.06992912e-01, 9.29390565e-02],\n",
              "       [9.86460090e-01, 2.52578757e-04, 1.32873608e-02],\n",
              "       [9.99979138e-01, 1.27964415e-06, 1.95457760e-05],\n",
              "       [9.87370372e-01, 6.00606785e-04, 1.20289475e-02],\n",
              "       [7.60733456e-05, 3.86168361e-02, 9.61307108e-01],\n",
              "       [2.64006521e-05, 9.82911944e-01, 1.70617178e-02],\n",
              "       [9.97152328e-01, 1.51755440e-03, 1.32998719e-03],\n",
              "       [9.77176607e-01, 1.62006967e-04, 2.26612855e-02],\n",
              "       [2.06845798e-04, 7.80539401e-03, 9.91987824e-01],\n",
              "       [2.55192574e-02, 4.66157086e-02, 9.27865028e-01]], dtype=float32)"
            ]
          },
          "metadata": {
            "tags": []
          },
          "execution_count": 16
        }
      ]
    },
    {
      "cell_type": "code",
      "metadata": {
        "id": "_PLqxCPDHR8T"
      },
      "source": [
        ""
      ],
      "execution_count": null,
      "outputs": []
    }
  ]
}